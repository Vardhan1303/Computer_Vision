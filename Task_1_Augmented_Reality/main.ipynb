{
 "cells": [
  {
   "cell_type": "markdown",
   "metadata": {},
   "source": [
    "# Jupyter Notebook Code for ArUco Marker Detection and Poster Overlay"
   ]
  },
  {
   "cell_type": "markdown",
   "metadata": {},
   "source": [
    "# Import Libraries"
   ]
  },
  {
   "cell_type": "code",
   "execution_count": 1,
   "metadata": {},
   "outputs": [],
   "source": [
    "import cv2\n",
    "import numpy as np\n",
    "import sys  \n",
    "import os"
   ]
  },
  {
   "cell_type": "markdown",
   "metadata": {},
   "source": [
    "# Section 1: Setup Directories and ArUco Detector"
   ]
  },
  {
   "cell_type": "markdown",
   "metadata": {},
   "source": [
    "# Define directories"
   ]
  },
  {
   "cell_type": "code",
   "execution_count": 2,
   "metadata": {},
   "outputs": [],
   "source": [
    "input_directory = \"room_with_aruco_marker\"\n",
    "output_directory_markers = \"aruco_markers_detection\"\n",
    "output_directory_overlay = \"poster_overlayed\"\n",
    "\n",
    "# Create output directories if not exist\n",
    "os.makedirs(output_directory_markers, exist_ok=True)\n",
    "os.makedirs(output_directory_overlay, exist_ok=True)"
   ]
  },
  {
   "cell_type": "code",
   "execution_count": 3,
   "metadata": {},
   "outputs": [
    {
     "name": "stdout",
     "output_type": "stream",
     "text": [
      "Markers detected and saved to 'aruco_markers_detection\\20221115_113319.jpg'.\n",
      "Markers detected and saved to 'aruco_markers_detection\\20221115_113328.jpg'.\n",
      "Markers detected and saved to 'aruco_markers_detection\\20221115_113340.jpg'.\n",
      "Markers detected and saved to 'aruco_markers_detection\\20221115_113346.jpg'.\n",
      "Markers detected and saved to 'aruco_markers_detection\\20221115_113356.jpg'.\n",
      "Markers detected and saved to 'aruco_markers_detection\\20221115_113401.jpg'.\n",
      "Markers detected and saved to 'aruco_markers_detection\\20221115_113412.jpg'.\n",
      "Markers detected and saved to 'aruco_markers_detection\\20221115_113424.jpg'.\n",
      "Markers detected and saved to 'aruco_markers_detection\\20221115_113437.jpg'.\n",
      "Markers detected and saved to 'aruco_markers_detection\\20221115_113440.jpg'.\n",
      "No ArUco markers detected in 'room_with_aruco_marker\\20221115_113635.jpg'.\n"
     ]
    }
   ],
   "source": [
    "# Get list of image file paths\n",
    "image_files = [os.path.join(input_directory, f) for f in os.listdir(input_directory) if f.endswith(('.jpg', '.png'))]\n",
    "\n",
    "# Define ArUco dictionary and parameters\n",
    "aruco_dict = cv2.aruco.getPredefinedDictionary(cv2.aruco.DICT_6X6_250)\n",
    "parameters = cv2.aruco.DetectorParameters()\n",
    "\n",
    "# Create ArUco detector\n",
    "detector = cv2.aruco.ArucoDetector(aruco_dict, parameters)\n",
    "\n",
    "# Section 2: Detect ArUco Markers\n",
    "for image_path in image_files:\n",
    "    image = cv2.imread(image_path)\n",
    "\n",
    "    if image is None:\n",
    "        print(f\"Error: Could not read image from '{image_path}'.\")\n",
    "        continue\n",
    "\n",
    "    corners, ids, rejected = detector.detectMarkers(image)\n",
    "\n",
    "    if len(corners) > 0:\n",
    "        for i in range(len(corners)):\n",
    "            corners_int = np.int32(corners[i][0])\n",
    "            cv2.polylines(image, [corners_int], True, (0, 255, 0), thickness=5)\n",
    "            cx = int(np.mean(corners_int[:, 0]))\n",
    "            cy = int(np.mean(corners_int[:, 1]))\n",
    "            cv2.putText(image, f\"ArUco Marker Id: {ids[i][0]}\", (200, 300), \n",
    "                        cv2.FONT_HERSHEY_SIMPLEX, 3, (255, 255, 255), 8)\n",
    "\n",
    "        output_path = os.path.join(output_directory_markers, os.path.basename(image_path))\n",
    "        cv2.imwrite(output_path, image)\n",
    "        print(f\"Markers detected and saved to '{output_path}'.\")\n",
    "    else:\n",
    "        print(f\"No ArUco markers detected in '{image_path}'.\")\n"
   ]
  },
  {
   "cell_type": "markdown",
   "metadata": {},
   "source": [
    "# Section 3: Poster Overlay Function"
   ]
  },
  {
   "cell_type": "markdown",
   "metadata": {},
   "source": [
    "# Define a function to calculate the transformation matrix"
   ]
  },
  {
   "cell_type": "code",
   "execution_count": 4,
   "metadata": {},
   "outputs": [],
   "source": [
    "# Define the function to calculate the transformation matrix\n",
    "def calculate_transform_matrix(marker_corner, poster):\n",
    "    e = marker_corner[0][0]\n",
    "    f = marker_corner[0][1]\n",
    "    g = marker_corner[0][2]\n",
    "    h = marker_corner[0][3]\n",
    "    \n",
    "    height, width, _ = poster.shape\n",
    "    center_x, center_y = width / 2, height / 2\n",
    "    \n",
    "    small_width = width / 9\n",
    "    small_height = height / 6\n",
    "    a = (center_x - small_width / 2, center_y - small_height / 2)\n",
    "    b = (center_x + small_width / 2, center_y - small_height / 2)\n",
    "    c = (center_x + small_width / 2, center_y + small_height / 2)\n",
    "    d = (center_x - small_width / 2, center_y + small_height / 2)\n",
    "    \n",
    "    input_corners = np.float32([a, b, c, d])\n",
    "    output_corners = np.float32([e, f, g, h])\n",
    "    return cv2.getPerspectiveTransform(input_corners, output_corners)"
   ]
  },
  {
   "cell_type": "markdown",
   "metadata": {},
   "source": [
    "# Section 4: Overlay Poster on Detected Markers"
   ]
  },
  {
   "cell_type": "code",
   "execution_count": 5,
   "metadata": {},
   "outputs": [
    {
     "name": "stdout",
     "output_type": "stream",
     "text": [
      "Overlay complete for marker 1 in image '20221115_113319.jpg' and saved to 'poster_overlayed\\result_image_20221115_113319_0.jpg'.\n",
      "Overlay complete for marker 1 in image '20221115_113328.jpg' and saved to 'poster_overlayed\\result_image_20221115_113328_0.jpg'.\n",
      "Overlay complete for marker 1 in image '20221115_113340.jpg' and saved to 'poster_overlayed\\result_image_20221115_113340_0.jpg'.\n",
      "Overlay complete for marker 1 in image '20221115_113346.jpg' and saved to 'poster_overlayed\\result_image_20221115_113346_0.jpg'.\n",
      "Overlay complete for marker 1 in image '20221115_113356.jpg' and saved to 'poster_overlayed\\result_image_20221115_113356_0.jpg'.\n",
      "Overlay complete for marker 1 in image '20221115_113401.jpg' and saved to 'poster_overlayed\\result_image_20221115_113401_0.jpg'.\n",
      "Overlay complete for marker 1 in image '20221115_113412.jpg' and saved to 'poster_overlayed\\result_image_20221115_113412_0.jpg'.\n",
      "Overlay complete for marker 1 in image '20221115_113424.jpg' and saved to 'poster_overlayed\\result_image_20221115_113424_0.jpg'.\n",
      "Overlay complete for marker 1 in image '20221115_113437.jpg' and saved to 'poster_overlayed\\result_image_20221115_113437_0.jpg'.\n",
      "Overlay complete for marker 1 in image '20221115_113440.jpg' and saved to 'poster_overlayed\\result_image_20221115_113440_0.jpg'.\n",
      "No ArUco markers detected in 'room_with_aruco_marker\\20221115_113635.jpg'.\n"
     ]
    }
   ],
   "source": [
    "# Load the poster image\n",
    "poster_path = \"poster.png\"\n",
    "poster = cv2.imread(poster_path)\n",
    "\n",
    "if poster is None:\n",
    "    print(f\"Error: Could not read poster image from '{poster_path}'.\")\n",
    "    sys.exit(1)  # Exit the script if the poster is not loaded\n",
    "\n",
    "# Process each image in the directory\n",
    "for image_path in image_files:\n",
    "    # Read the image\n",
    "    image = cv2.imread(image_path)\n",
    "\n",
    "    if image is None:\n",
    "        print(f\"Error: Could not read image from '{image_path}'.\")\n",
    "        continue\n",
    "\n",
    "    # Detect ArUco markers\n",
    "    corners, ids, _ = detector.detectMarkers(image)\n",
    "\n",
    "    if len(corners) > 0:\n",
    "        for i, marker_corner in enumerate(corners):\n",
    "            # Calculate the transformation matrix\n",
    "            M = calculate_transform_matrix(marker_corner, poster)\n",
    "\n",
    "            # Apply perspective transformation to the poster\n",
    "            transformed_poster = cv2.warpPerspective(\n",
    "                poster, M,\n",
    "                (image.shape[1], image.shape[0]),\n",
    "                flags=cv2.INTER_LINEAR, borderMode=cv2.BORDER_CONSTANT, borderValue=(0, 0, 1, 0)\n",
    "            )\n",
    "\n",
    "            # Create a mask for the transformed poster area\n",
    "            mask = np.zeros((image.shape[0], image.shape[1]), dtype=np.uint8)\n",
    "            cv2.fillPoly(mask, [marker_corner.astype(int)], 255)\n",
    "\n",
    "            # Invert the mask to exclude the poster area from the original image\n",
    "            inverted_mask = cv2.bitwise_not(mask)\n",
    "            classroom_without_poster = cv2.bitwise_and(image, image, mask=inverted_mask)\n",
    "\n",
    "            # Blend the transformed poster with the classroom image\n",
    "            alpha = 1\n",
    "            blended_image = cv2.addWeighted(transformed_poster, alpha, classroom_without_poster, 0, 1)\n",
    "            \n",
    "            # Create a copy of the classroom image\n",
    "            classroom_copy = image.copy()\n",
    "            \n",
    "            # Integrate the blended image into the copy of the classroom image\n",
    "            blended_image_gray = cv2.cvtColor(blended_image, cv2.COLOR_BGR2GRAY)\n",
    "            _, mask = cv2.threshold(blended_image_gray, 1, 255, cv2.THRESH_BINARY)\n",
    "            mask_inv = cv2.bitwise_not(mask)\n",
    "            # Use the original image directly for the background\n",
    "            classroom_without_poster = cv2.bitwise_and(image, image, mask=mask_inv)\n",
    "\n",
    "            # Combine the classroom background and the transformed poster\n",
    "            overlay_result = cv2.add(classroom_without_poster, blended_image)\n",
    "            \n",
    "            # Save the output image\n",
    "            output_image_path = os.path.join(\n",
    "                output_directory_overlay,\n",
    "                f\"result_image_{os.path.basename(image_path).split('.')[0]}_{i}.jpg\"\n",
    "            )\n",
    "            cv2.imwrite(output_image_path, overlay_result)\n",
    "            print(f\"Overlay complete for marker {i + 1} in image '{os.path.basename(image_path)}' and saved to '{output_image_path}'.\")\n",
    "    else:\n",
    "        print(f\"No ArUco markers detected in '{image_path}'.\")\n"
   ]
  }
 ],
 "metadata": {
  "kernelspec": {
   "display_name": "Python 3",
   "language": "python",
   "name": "python3"
  },
  "language_info": {
   "codemirror_mode": {
    "name": "ipython",
    "version": 3
   },
   "file_extension": ".py",
   "mimetype": "text/x-python",
   "name": "python",
   "nbconvert_exporter": "python",
   "pygments_lexer": "ipython3",
   "version": "3.12.0"
  }
 },
 "nbformat": 4,
 "nbformat_minor": 2
}
